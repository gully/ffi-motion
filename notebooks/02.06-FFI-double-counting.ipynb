{
 "cells": [
  {
   "cell_type": "markdown",
   "metadata": {},
   "source": [
    "# K2 double-counting estimate"
   ]
  },
  {
   "cell_type": "markdown",
   "metadata": {},
   "source": [
    "Kepler double counts overlapping TPFs in its telemetry, meaning we double-pay for TPFs that have overlapping apertures.  Let's estimate how much of an effect this is."
   ]
  },
  {
   "cell_type": "code",
   "execution_count": 1,
   "metadata": {},
   "outputs": [
    {
     "data": {
      "text/html": [
       "<style>.container { width:100% !important; }</style>"
      ],
      "text/plain": [
       "<IPython.core.display.HTML object>"
      ]
     },
     "metadata": {},
     "output_type": "display_data"
    }
   ],
   "source": [
    "from IPython.core.display import display, HTML\n",
    "display(HTML(\"<style>.container { width:100% !important; }</style>\"))"
   ]
  },
  {
   "cell_type": "code",
   "execution_count": 2,
   "metadata": {
    "collapsed": true
   },
   "outputs": [],
   "source": [
    "import pandas as pd\n",
    "import numpy as np\n",
    "import matplotlib.pyplot as plt\n",
    "from astropy.io import fits\n",
    "from astropy.utils.console import ProgressBar\n",
    "import logging\n",
    "%matplotlib inline\n",
    "%config InlineBackend.figure_format = 'retina'"
   ]
  },
  {
   "cell_type": "code",
   "execution_count": 3,
   "metadata": {
    "collapsed": true
   },
   "outputs": [],
   "source": [
    "import astropy.visualization\n",
    "from fast_histogram import histogram1d"
   ]
  },
  {
   "cell_type": "code",
   "execution_count": 4,
   "metadata": {
    "collapsed": true
   },
   "outputs": [],
   "source": [
    "df = pd.read_csv('../../k2-target-index/k2-target-pixel-files.csv.gz')"
   ]
  },
  {
   "cell_type": "code",
   "execution_count": 5,
   "metadata": {
    "collapsed": true
   },
   "outputs": [],
   "source": [
    "campaigns = df.campaign.unique()"
   ]
  },
  {
   "cell_type": "code",
   "execution_count": 6,
   "metadata": {},
   "outputs": [
    {
     "data": {
      "text/plain": [
       "array([  0,   1,   2,   3,   4,   5,   6,   7,   8,  91,  92, 101, 102,\n",
       "       111, 112,  12,  13])"
      ]
     },
     "execution_count": 6,
     "metadata": {},
     "output_type": "execute_result"
    }
   ],
   "source": [
    "campaigns"
   ]
  },
  {
   "cell_type": "markdown",
   "metadata": {},
   "source": [
    "Some of my campaigns failed to count TPFs properly for an as-yet-unknown reason.  Let's skip the campaigns that didn't work for now.  You can spot check which ones worked just by seeing if any pixels were counted.  The \"bad\" campaigns have zero TPFs matched up.  "
   ]
  },
  {
   "cell_type": "code",
   "execution_count": 7,
   "metadata": {},
   "outputs": [
    {
     "name": "stdout",
     "output_type": "stream",
     "text": [
      "C0_FFI_mask.fits   C13_FFI_mask.fits  C3_FFI_mask.fits   C7_FFI_mask.fits\r\n",
      "C101_FFI_mask.fits C14_FFI_mask.fits  C4_FFI_mask.fits   C8_FFI_mask.fits\r\n",
      "C102_FFI_mask.fits C1_FFI_mask.fits   C5_FFI_mask.fits   C91_FFI_mask.fits\r\n",
      "C12_FFI_mask.fits  C2_FFI_mask.fits   C6_FFI_mask.fits   C92_FFI_mask.fits\r\n"
     ]
    }
   ],
   "source": [
    "! ls ../data/FFI_counts/"
   ]
  },
  {
   "cell_type": "code",
   "execution_count": 8,
   "metadata": {
    "collapsed": true
   },
   "outputs": [],
   "source": [
    "campaign = 5\n",
    "hdu_counts = fits.open('../data/FFI_counts/C{}_FFI_mask.fits'.format(str(campaign)))"
   ]
  },
  {
   "cell_type": "code",
   "execution_count": 9,
   "metadata": {
    "collapsed": true
   },
   "outputs": [],
   "source": [
    "#for i in np.arange(1, 85):\n",
    "#    print(hdu_counts[i].data.sum(), end = ' ')"
   ]
  },
  {
   "cell_type": "code",
   "execution_count": 10,
   "metadata": {
    "collapsed": true
   },
   "outputs": [],
   "source": [
    "bad_campaigns = [101, 102,13, 14]\n",
    "\n",
    "good_campaigns = [0,1,2,3,4,5,6,7,8, 91, 92, 12]"
   ]
  },
  {
   "cell_type": "code",
   "execution_count": 11,
   "metadata": {
    "collapsed": true
   },
   "outputs": [],
   "source": [
    "mod_outs = [hdu.name for hdu in hdu_counts[1:]]"
   ]
  },
  {
   "cell_type": "code",
   "execution_count": 12,
   "metadata": {
    "collapsed": true
   },
   "outputs": [],
   "source": [
    "cols = ['campaign', 'mod_out', 'n0', 'n1', 'n2', 'n3', 'n4', 'ngt5']"
   ]
  },
  {
   "cell_type": "code",
   "execution_count": 13,
   "metadata": {
    "collapsed": true
   },
   "outputs": [],
   "source": [
    "df_all = pd.DataFrame(columns=cols)"
   ]
  },
  {
   "cell_type": "code",
   "execution_count": 14,
   "metadata": {},
   "outputs": [
    {
     "name": "stdout",
     "output_type": "stream",
     "text": [
      "0 1 2 3 4 5 6 7 8 91 92 12 "
     ]
    }
   ],
   "source": [
    "for campaign in good_campaigns:\n",
    "    print(campaign, end=' ')\n",
    "    hdu_counts = fits.open('../data/FFI_counts/C{}_FFI_mask.fits'.format(str(campaign)))\n",
    "    for mod_out in mod_outs:\n",
    "        y, x = np.histogram(hdu_counts[mod_out].data, bins=np.arange(0,7))\n",
    "        vec = [campaign, mod_out, *y]\n",
    "        dict_row = {key:val for key, val in zip(cols, vec)}\n",
    "        dict_row['ngt5'] = (hdu_counts[mod_out].data >= 5).sum() #desired behavior\n",
    "        df_all = df_all.append(dict_row, ignore_index=True)"
   ]
  },
  {
   "cell_type": "code",
   "execution_count": 15,
   "metadata": {},
   "outputs": [
    {
     "data": {
      "text/plain": [
       "array(['campaign', 'mod_out', 'n0', 'n1', 'n2', 'n3', 'n4', 'ngt5'], dtype=object)"
      ]
     },
     "execution_count": 15,
     "metadata": {},
     "output_type": "execute_result"
    }
   ],
   "source": [
    "df_all.columns.values"
   ]
  },
  {
   "cell_type": "code",
   "execution_count": 16,
   "metadata": {
    "collapsed": true
   },
   "outputs": [],
   "source": [
    "for col in ['campaign', 'n0', 'n1', 'n2', 'n3', 'n4', 'ngt5']:\n",
    "    df_all[col] = df_all[col].astype(np.int)"
   ]
  },
  {
   "cell_type": "code",
   "execution_count": 17,
   "metadata": {
    "collapsed": true
   },
   "outputs": [],
   "source": [
    "df_all['telemetered'] = df_all[['n1', 'n2', 'n3', 'n4', 'ngt5']].sum(axis=1).astype(np.int)\n",
    "df_all['total_pix'] = df_all[['n0', 'n1', 'n2', 'n3', 'n4', 'ngt5']].sum(axis=1).astype(np.int)"
   ]
  },
  {
   "cell_type": "code",
   "execution_count": 18,
   "metadata": {
    "collapsed": true
   },
   "outputs": [],
   "source": [
    "df_all['frac_telem'] = df_all.telemetered/df_all.total_pix.astype(np.float)"
   ]
  },
  {
   "cell_type": "code",
   "execution_count": 19,
   "metadata": {
    "collapsed": true
   },
   "outputs": [],
   "source": [
    "import seaborn as sns"
   ]
  },
  {
   "cell_type": "code",
   "execution_count": 20,
   "metadata": {},
   "outputs": [
    {
     "data": {
      "text/html": [
       "<div>\n",
       "<style>\n",
       "    .dataframe thead tr:only-child th {\n",
       "        text-align: right;\n",
       "    }\n",
       "\n",
       "    .dataframe thead th {\n",
       "        text-align: left;\n",
       "    }\n",
       "\n",
       "    .dataframe tbody tr th {\n",
       "        vertical-align: top;\n",
       "    }\n",
       "</style>\n",
       "<table border=\"1\" class=\"dataframe\">\n",
       "  <thead>\n",
       "    <tr style=\"text-align: right;\">\n",
       "      <th></th>\n",
       "      <th>campaign</th>\n",
       "      <th>mod_out</th>\n",
       "      <th>n0</th>\n",
       "      <th>n1</th>\n",
       "      <th>n2</th>\n",
       "      <th>n3</th>\n",
       "      <th>n4</th>\n",
       "      <th>ngt5</th>\n",
       "      <th>telemetered</th>\n",
       "      <th>total_pix</th>\n",
       "      <th>frac_telem</th>\n",
       "    </tr>\n",
       "  </thead>\n",
       "  <tbody>\n",
       "    <tr>\n",
       "      <th>0</th>\n",
       "      <td>0</td>\n",
       "      <td>MOD.OUT 2.1</td>\n",
       "      <td>1167213</td>\n",
       "      <td>42216</td>\n",
       "      <td>1763</td>\n",
       "      <td>48</td>\n",
       "      <td>0</td>\n",
       "      <td>0</td>\n",
       "      <td>44027</td>\n",
       "      <td>1211240</td>\n",
       "      <td>0.036349</td>\n",
       "    </tr>\n",
       "    <tr>\n",
       "      <th>1</th>\n",
       "      <td>0</td>\n",
       "      <td>MOD.OUT 2.2</td>\n",
       "      <td>1173866</td>\n",
       "      <td>35904</td>\n",
       "      <td>1470</td>\n",
       "      <td>0</td>\n",
       "      <td>0</td>\n",
       "      <td>0</td>\n",
       "      <td>37374</td>\n",
       "      <td>1211240</td>\n",
       "      <td>0.030856</td>\n",
       "    </tr>\n",
       "    <tr>\n",
       "      <th>2</th>\n",
       "      <td>0</td>\n",
       "      <td>MOD.OUT 2.3</td>\n",
       "      <td>1183187</td>\n",
       "      <td>27209</td>\n",
       "      <td>844</td>\n",
       "      <td>0</td>\n",
       "      <td>0</td>\n",
       "      <td>0</td>\n",
       "      <td>28053</td>\n",
       "      <td>1211240</td>\n",
       "      <td>0.023161</td>\n",
       "    </tr>\n",
       "    <tr>\n",
       "      <th>3</th>\n",
       "      <td>0</td>\n",
       "      <td>MOD.OUT 2.4</td>\n",
       "      <td>1179380</td>\n",
       "      <td>31163</td>\n",
       "      <td>697</td>\n",
       "      <td>0</td>\n",
       "      <td>0</td>\n",
       "      <td>0</td>\n",
       "      <td>31860</td>\n",
       "      <td>1211240</td>\n",
       "      <td>0.026304</td>\n",
       "    </tr>\n",
       "    <tr>\n",
       "      <th>4</th>\n",
       "      <td>0</td>\n",
       "      <td>MOD.OUT 3.1</td>\n",
       "      <td>1211240</td>\n",
       "      <td>0</td>\n",
       "      <td>0</td>\n",
       "      <td>0</td>\n",
       "      <td>0</td>\n",
       "      <td>0</td>\n",
       "      <td>0</td>\n",
       "      <td>1211240</td>\n",
       "      <td>0.000000</td>\n",
       "    </tr>\n",
       "  </tbody>\n",
       "</table>\n",
       "</div>"
      ],
      "text/plain": [
       "   campaign      mod_out       n0     n1    n2  n3  n4  ngt5  telemetered  \\\n",
       "0         0  MOD.OUT 2.1  1167213  42216  1763  48   0     0        44027   \n",
       "1         0  MOD.OUT 2.2  1173866  35904  1470   0   0     0        37374   \n",
       "2         0  MOD.OUT 2.3  1183187  27209   844   0   0     0        28053   \n",
       "3         0  MOD.OUT 2.4  1179380  31163   697   0   0     0        31860   \n",
       "4         0  MOD.OUT 3.1  1211240      0     0   0   0     0            0   \n",
       "\n",
       "   total_pix  frac_telem  \n",
       "0    1211240    0.036349  \n",
       "1    1211240    0.030856  \n",
       "2    1211240    0.023161  \n",
       "3    1211240    0.026304  \n",
       "4    1211240    0.000000  "
      ]
     },
     "execution_count": 20,
     "metadata": {},
     "output_type": "execute_result"
    }
   ],
   "source": [
    "df_all.head()"
   ]
  },
  {
   "cell_type": "markdown",
   "metadata": {},
   "source": [
    "OK, let's see if we counted everything right.  The `total_pix` should be the same for every module."
   ]
  },
  {
   "cell_type": "code",
   "execution_count": 21,
   "metadata": {},
   "outputs": [
    {
     "data": {
      "text/plain": [
       "1211240    1008\n",
       "Name: total_pix, dtype: int64"
      ]
     },
     "execution_count": 21,
     "metadata": {},
     "output_type": "execute_result"
    }
   ],
   "source": [
    "df_all.total_pix.value_counts()"
   ]
  },
  {
   "cell_type": "markdown",
   "metadata": {},
   "source": [
    "Woohoo, they all work."
   ]
  },
  {
   "cell_type": "code",
   "execution_count": 22,
   "metadata": {},
   "outputs": [
    {
     "data": {
      "text/plain": [
       "<matplotlib.axes._subplots.AxesSubplot at 0xa1a20f0f0>"
      ]
     },
     "execution_count": 22,
     "metadata": {},
     "output_type": "execute_result"
    },
    {
     "data": {
      "image/png": "[encoded data removed]",
      "text/plain": [
       "<matplotlib.figure.Figure at 0xa137d56a0>"
      ]
     },
     "metadata": {
      "image/png": {
       "height": 263,
       "width": 387
      }
     },
     "output_type": "display_data"
    }
   ],
   "source": [
    "sns.violinplot(x=\"campaign\", y=\"frac_telem\", data=df_all, inner=None)"
   ]
  },
  {
   "cell_type": "code",
   "execution_count": 23,
   "metadata": {},
   "outputs": [
    {
     "data": {
      "image/png": "[encoded data removed]",
      "text/plain": [
       "<matplotlib.figure.Figure at 0xa1a9f4dd8>"
      ]
     },
     "metadata": {
      "image/png": {
       "height": 383,
       "width": 1392
      }
     },
     "output_type": "display_data"
    }
   ],
   "source": [
    "plt.figure(figsize=(24, 5))\n",
    "sns.barplot(x=\"mod_out\", y=\"frac_telem\", hue='campaign', data=df_all);\n",
    "plt.xticks(rotation='vertical');"
   ]
  },
  {
   "cell_type": "markdown",
   "metadata": {},
   "source": [
    "Some campaigns have have a large fraction of their telemetered pixels concentrated in a single module."
   ]
  },
  {
   "cell_type": "code",
   "execution_count": 24,
   "metadata": {},
   "outputs": [
    {
     "data": {
      "text/plain": [
       "Index(['campaign', 'mod_out', 'n0', 'n1', 'n2', 'n3', 'n4', 'ngt5',\n",
       "       'telemetered', 'total_pix', 'frac_telem'],\n",
       "      dtype='object')"
      ]
     },
     "execution_count": 24,
     "metadata": {},
     "output_type": "execute_result"
    }
   ],
   "source": [
    "df_all.columns"
   ]
  },
  {
   "cell_type": "code",
   "execution_count": 26,
   "metadata": {
    "collapsed": true
   },
   "outputs": [],
   "source": [
    "by_campaign = df_all.groupby('campaign').sum().drop('frac_telem', axis=1)"
   ]
  },
  {
   "cell_type": "markdown",
   "metadata": {},
   "source": [
    "Percentage of pixels telemetered by campaign.  There are a few reasons why "
   ]
  },
  {
   "cell_type": "code",
   "execution_count": 27,
   "metadata": {
    "collapsed": true
   },
   "outputs": [],
   "source": [
    "to_plot = by_campaign.telemetered/by_campaign.total_pix*100.0\n",
    "to_plot = to_plot.to_frame().reset_index().rename(columns={0:'Percent Telemetered'})"
   ]
  },
  {
   "cell_type": "markdown",
   "metadata": {},
   "source": [
    "Let's see if we get the same answer by counting up the `npix` in the **K2-Target-Index**.  I think we'll have to ignore the short cadence, since those are automatically double counted as long cadence.  We expect the value from the K2-Target-Index to be *over-estimated*, since it double counts overlapping TPFs."
   ]
  },
  {
   "cell_type": "code",
   "execution_count": 28,
   "metadata": {
    "collapsed": true
   },
   "outputs": [],
   "source": [
    "bi = df.index[df.obsmode =='short cadence']\n",
    "to_plot2 = 100.0*df.drop(bi).groupby('campaign').npix.sum()/101744160\n",
    "to_plot2 = to_plot2.to_frame().reset_index().rename(columns={'npix':'Percent Telemetered'})"
   ]
  },
  {
   "cell_type": "code",
   "execution_count": 29,
   "metadata": {
    "collapsed": true
   },
   "outputs": [],
   "source": [
    "df_telem = pd.merge(to_plot, to_plot2, how='outer', on='campaign')"
   ]
  },
  {
   "cell_type": "code",
   "execution_count": 30,
   "metadata": {},
   "outputs": [
    {
     "data": {
      "text/html": [
       "<div>\n",
       "<style>\n",
       "    .dataframe thead tr:only-child th {\n",
       "        text-align: right;\n",
       "    }\n",
       "\n",
       "    .dataframe thead th {\n",
       "        text-align: left;\n",
       "    }\n",
       "\n",
       "    .dataframe tbody tr th {\n",
       "        vertical-align: top;\n",
       "    }\n",
       "</style>\n",
       "<table border=\"1\" class=\"dataframe\">\n",
       "  <thead>\n",
       "    <tr style=\"text-align: right;\">\n",
       "      <th></th>\n",
       "      <th>campaign</th>\n",
       "      <th>Percent Telemetered_x</th>\n",
       "      <th>Percent Telemetered_y</th>\n",
       "    </tr>\n",
       "  </thead>\n",
       "  <tbody>\n",
       "    <tr>\n",
       "      <th>0</th>\n",
       "      <td>0</td>\n",
       "      <td>4.645706</td>\n",
       "      <td>4.874430</td>\n",
       "    </tr>\n",
       "    <tr>\n",
       "      <th>1</th>\n",
       "      <td>1</td>\n",
       "      <td>4.906095</td>\n",
       "      <td>5.076463</td>\n",
       "    </tr>\n",
       "    <tr>\n",
       "      <th>2</th>\n",
       "      <td>2</td>\n",
       "      <td>2.086748</td>\n",
       "      <td>2.140224</td>\n",
       "    </tr>\n",
       "    <tr>\n",
       "      <th>3</th>\n",
       "      <td>3</td>\n",
       "      <td>2.568763</td>\n",
       "      <td>2.629177</td>\n",
       "    </tr>\n",
       "    <tr>\n",
       "      <th>4</th>\n",
       "      <td>4</td>\n",
       "      <td>2.388133</td>\n",
       "      <td>2.445873</td>\n",
       "    </tr>\n",
       "    <tr>\n",
       "      <th>5</th>\n",
       "      <td>5</td>\n",
       "      <td>2.453314</td>\n",
       "      <td>2.508829</td>\n",
       "    </tr>\n",
       "    <tr>\n",
       "      <th>6</th>\n",
       "      <td>6</td>\n",
       "      <td>2.543580</td>\n",
       "      <td>2.608189</td>\n",
       "    </tr>\n",
       "    <tr>\n",
       "      <th>7</th>\n",
       "      <td>7</td>\n",
       "      <td>1.552970</td>\n",
       "      <td>1.589788</td>\n",
       "    </tr>\n",
       "    <tr>\n",
       "      <th>8</th>\n",
       "      <td>8</td>\n",
       "      <td>2.158745</td>\n",
       "      <td>2.224584</td>\n",
       "    </tr>\n",
       "    <tr>\n",
       "      <th>9</th>\n",
       "      <td>12</td>\n",
       "      <td>2.593082</td>\n",
       "      <td>2.647378</td>\n",
       "    </tr>\n",
       "    <tr>\n",
       "      <th>10</th>\n",
       "      <td>91</td>\n",
       "      <td>3.199985</td>\n",
       "      <td>3.206684</td>\n",
       "    </tr>\n",
       "    <tr>\n",
       "      <th>11</th>\n",
       "      <td>92</td>\n",
       "      <td>3.205760</td>\n",
       "      <td>3.212627</td>\n",
       "    </tr>\n",
       "    <tr>\n",
       "      <th>12</th>\n",
       "      <td>13</td>\n",
       "      <td>NaN</td>\n",
       "      <td>2.015377</td>\n",
       "    </tr>\n",
       "    <tr>\n",
       "      <th>13</th>\n",
       "      <td>101</td>\n",
       "      <td>NaN</td>\n",
       "      <td>2.820469</td>\n",
       "    </tr>\n",
       "    <tr>\n",
       "      <th>14</th>\n",
       "      <td>102</td>\n",
       "      <td>NaN</td>\n",
       "      <td>2.820278</td>\n",
       "    </tr>\n",
       "    <tr>\n",
       "      <th>15</th>\n",
       "      <td>111</td>\n",
       "      <td>NaN</td>\n",
       "      <td>1.589744</td>\n",
       "    </tr>\n",
       "    <tr>\n",
       "      <th>16</th>\n",
       "      <td>112</td>\n",
       "      <td>NaN</td>\n",
       "      <td>1.569806</td>\n",
       "    </tr>\n",
       "  </tbody>\n",
       "</table>\n",
       "</div>"
      ],
      "text/plain": [
       "    campaign  Percent Telemetered_x  Percent Telemetered_y\n",
       "0          0               4.645706               4.874430\n",
       "1          1               4.906095               5.076463\n",
       "2          2               2.086748               2.140224\n",
       "3          3               2.568763               2.629177\n",
       "4          4               2.388133               2.445873\n",
       "5          5               2.453314               2.508829\n",
       "6          6               2.543580               2.608189\n",
       "7          7               1.552970               1.589788\n",
       "8          8               2.158745               2.224584\n",
       "9         12               2.593082               2.647378\n",
       "10        91               3.199985               3.206684\n",
       "11        92               3.205760               3.212627\n",
       "12        13                    NaN               2.015377\n",
       "13       101                    NaN               2.820469\n",
       "14       102                    NaN               2.820278\n",
       "15       111                    NaN               1.589744\n",
       "16       112                    NaN               1.569806"
      ]
     },
     "execution_count": 30,
     "metadata": {},
     "output_type": "execute_result"
    }
   ],
   "source": [
    "df_telem"
   ]
  },
  {
   "cell_type": "code",
   "execution_count": 37,
   "metadata": {},
   "outputs": [
    {
     "data": {
      "image/png": "[encoded data removed]",
      "text/plain": [
       "<matplotlib.figure.Figure at 0xa27479278>"
      ]
     },
     "metadata": {
      "image/png": {
       "height": 273,
       "width": 377
      }
     },
     "output_type": "display_data"
    }
   ],
   "source": [
    "sns.barplot(data=df_telem, y='Percent Telemetered_x', x='campaign', color='r', label='Unique pixels', alpha=0.5)\n",
    "sns.barplot(data=df_telem, y='Percent Telemetered_y', x='campaign', color='b', label='Double counting TPFs', alpha=0.5)\n",
    "plt.ylabel('% of pixels telemetered in LC');\n",
    "plt.legend(loc='best');\n",
    "plt.savefig('../figures/telemetered_pixel_fraction.png', dpi=300)\n",
    "plt.xticks(rotation='vertical');"
   ]
  },
  {
   "cell_type": "markdown",
   "metadata": {},
   "source": [
    "Indeed, that's what we see, double-counting the TPFs slightly overestimates how many pixels you actually telemetered back.  We're missing information for some of the later campaigns (we said we'd sort that our later, remember?)  There are several reasons why a campaign may have more-or-less pixels telemetered, the number of short cadence pixels being chief among them.  I also might not have counted all the TPFs when doing my FFI count analysis (remember there is a log of failed TPFs).  Another factor is the inefficiency of double- or triple- counting overlapping TPFs.  Let's ignore the other problems for now and try to quantify that inefficiency."
   ]
  },
  {
   "cell_type": "code",
   "execution_count": 32,
   "metadata": {
    "collapsed": true
   },
   "outputs": [],
   "source": [
    "by_campaign['extra'] = (by_campaign.n2*2 + \n",
    "                        by_campaign.n3*3 +\n",
    "                        by_campaign.n4*4 +\n",
    "                        by_campaign.ngt5*5)"
   ]
  },
  {
   "cell_type": "code",
   "execution_count": 34,
   "metadata": {},
   "outputs": [
    {
     "data": {
      "text/plain": [
       "campaign\n",
       "0     9.375987\n",
       "1     8.098155\n",
       "2     6.925090\n",
       "3     7.477048\n",
       "4     7.485286\n",
       "5     5.634037\n",
       "6     6.761224\n",
       "7     6.264007\n",
       "8     9.188023\n",
       "12    6.224726\n",
       "91    0.555881\n",
       "92    0.569927\n",
       "dtype: float64"
      ]
     },
     "execution_count": 34,
     "metadata": {},
     "output_type": "execute_result"
    }
   ],
   "source": [
    "by_campaign.extra/(by_campaign.n1+by_campaign.extra)*100.0"
   ]
  },
  {
   "cell_type": "markdown",
   "metadata": {},
   "source": [
    "Hmmm, doesn't seem to jive with the plot above, no?  Maybe something is off with the way I count short cadence."
   ]
  },
  {
   "cell_type": "code",
   "execution_count": 42,
   "metadata": {},
   "outputs": [
    {
     "data": {
      "text/plain": [
       "0     4.923335\n",
       "1     3.472589\n",
       "2     2.562662\n",
       "3     2.351882\n",
       "4     2.417785\n",
       "5     2.262846\n",
       "6     2.540086\n",
       "7     2.370802\n",
       "8     3.049858\n",
       "9     2.093878\n",
       "10    0.209350\n",
       "11    0.214184\n",
       "12         NaN\n",
       "13         NaN\n",
       "14         NaN\n",
       "15         NaN\n",
       "16         NaN\n",
       "dtype: float64"
      ]
     },
     "execution_count": 42,
     "metadata": {},
     "output_type": "execute_result"
    }
   ],
   "source": [
    "(df_telem['Percent Telemetered_y']-df_telem['Percent Telemetered_x'])/df_telem['Percent Telemetered_x']*100.0"
   ]
  },
  {
   "cell_type": "markdown",
   "metadata": {},
   "source": [
    "Hmm, two different answers!"
   ]
  },
  {
   "cell_type": "code",
   "execution_count": null,
   "metadata": {
    "collapsed": true
   },
   "outputs": [],
   "source": []
  }
 ],
 "metadata": {
  "kernelspec": {
   "display_name": "Python 3",
   "language": "python",
   "name": "python3"
  },
  "language_info": {
   "codemirror_mode": {
    "name": "ipython",
    "version": 3
   },
   "file_extension": ".py",
   "mimetype": "text/x-python",
   "name": "python",
   "nbconvert_exporter": "python",
   "pygments_lexer": "ipython3",
   "version": "3.6.3"
  }
 },
 "nbformat": 4,
 "nbformat_minor": 2
}
