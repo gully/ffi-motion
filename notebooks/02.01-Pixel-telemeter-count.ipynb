{
 "cells": [
  {
   "cell_type": "markdown",
   "metadata": {},
   "source": [
    "# C13 example: How many times has each K2 pixel been telemetered?"
   ]
  },
  {
   "cell_type": "markdown",
   "metadata": {},
   "source": [
    "C13 example"
   ]
  },
  {
   "cell_type": "markdown",
   "metadata": {},
   "source": [
    "In this demo notebook we are going to identify which pixels were observed in long cadence (LC) during campaign 13.  Our final goal is to have a boolean mask the same dimensions as an FFI, with either 1 (was observed) or 0 (not observed).  Our approach will be simply to read in every single TPF and access the `APERTURE` keyword.  Values of `APERTURE` greater than zero are observed, while zero values were not.  We will also need to read the FITS header to determine the *x,y* coordinate of the corner of the TPF.  Finally we will programmatically fill in a count array with ones or zeros."
   ]
  },
  {
   "cell_type": "markdown",
   "metadata": {},
   "source": [
    "Make the Jupyter Notebook fill the screen."
   ]
  },
  {
   "cell_type": "code",
   "execution_count": 1,
   "metadata": {},
   "outputs": [
    {
     "data": {
      "text/html": [
       "<style>.container { width:100% !important; }</style>"
      ],
      "text/plain": [
       "<IPython.core.display.HTML object>"
      ]
     },
     "metadata": {},
     "output_type": "display_data"
    }
   ],
   "source": [
    "from IPython.core.display import display, HTML\n",
    "display(HTML(\"<style>.container { width:100% !important; }</style>\"))"
   ]
  },
  {
   "cell_type": "code",
   "execution_count": 2,
   "metadata": {
    "collapsed": true
   },
   "outputs": [],
   "source": [
    "import pandas as pd\n",
    "import numpy as np\n",
    "import matplotlib.pyplot as plt\n",
    "from astropy.io import fits\n",
    "from astropy.utils.console import ProgressBar\n",
    "import logging\n",
    "%matplotlib inline\n",
    "%config InlineBackend.figure_format = 'retina'"
   ]
  },
  {
   "cell_type": "markdown",
   "metadata": {},
   "source": [
    "Open the Campaign 13 FFI to mimic the dimensions and metadata."
   ]
  },
  {
   "cell_type": "code",
   "execution_count": 3,
   "metadata": {
    "collapsed": true
   },
   "outputs": [],
   "source": [
    "hdu_ffi = fits.open('/Volumes/Truro/ffi/ktwo2017079075530-c13_ffi-cal.fits')"
   ]
  },
  {
   "cell_type": "markdown",
   "metadata": {},
   "source": [
    "Open the [k2 Target Index](https://github.com/barentsen/k2-target-index) csv file, which is only updated to Campaign 13 at the time of writing."
   ]
  },
  {
   "cell_type": "code",
   "execution_count": 4,
   "metadata": {
    "collapsed": true
   },
   "outputs": [],
   "source": [
    "df = pd.read_csv('../../k2-target-index/k2-target-pixel-files.csv.gz')"
   ]
  },
  {
   "cell_type": "markdown",
   "metadata": {},
   "source": [
    "For this notebook, we will just focus on Campaign 13.  We can generalize our result in the future by using *all* the campaigns."
   ]
  },
  {
   "cell_type": "code",
   "execution_count": 5,
   "metadata": {},
   "outputs": [],
   "source": [
    "df = df[df.campaign == 13].reset_index(drop=True)"
   ]
  },
  {
   "cell_type": "code",
   "execution_count": 6,
   "metadata": {},
   "outputs": [
    {
     "data": {
      "text/plain": [
       "'MOD.OUT 4.2'"
      ]
     },
     "execution_count": 6,
     "metadata": {},
     "output_type": "execute_result"
    }
   ],
   "source": [
    "hdu_ffi[10].name"
   ]
  },
  {
   "cell_type": "markdown",
   "metadata": {},
   "source": [
    "The Kepler FFI CCDs are referred to by their **\"mod.out\" name**, rather than by \"channel\".  The nomenclature is a relic of how the CCD readout electronics were configured.  \n",
    "What matters here is that:  \n",
    "1. We will have to mimic the formatting to programmatically index into the FFI counts.\n",
    "2. Some modules have more target pixel files on them than others, by chance or by astrophysical design."
   ]
  },
  {
   "cell_type": "code",
   "execution_count": 7,
   "metadata": {},
   "outputs": [
    {
     "data": {
      "text/plain": [
       "module  output\n",
       "2       1         342\n",
       "        2         347\n",
       "        3         404\n",
       "        4         416\n",
       "6       1         345\n",
       "        2         983\n",
       "        3         598\n",
       "        4         283\n",
       "8       1         573\n",
       "        2         929\n",
       "Name: filename, dtype: int64"
      ]
     },
     "execution_count": 7,
     "metadata": {},
     "output_type": "execute_result"
    }
   ],
   "source": [
    "df.groupby(['module', 'output']).filename.count().head(10)"
   ]
  },
  {
   "cell_type": "code",
   "execution_count": 8,
   "metadata": {
    "collapsed": true
   },
   "outputs": [],
   "source": [
    "df['mod_str'] = \"MOD.OUT \"+df.module.astype(str)+'.'+df.output.astype(str)"
   ]
  },
  {
   "cell_type": "code",
   "execution_count": 9,
   "metadata": {},
   "outputs": [
    {
     "data": {
      "text/plain": [
       "26282    MOD.OUT 17.1\n",
       "26283    MOD.OUT 16.4\n",
       "26284    MOD.OUT 13.4\n",
       "26285     MOD.OUT 8.4\n",
       "26286    MOD.OUT 19.4\n",
       "Name: mod_str, dtype: object"
      ]
     },
     "execution_count": 9,
     "metadata": {},
     "output_type": "execute_result"
    }
   ],
   "source": [
    "df['mod_str'].tail()"
   ]
  },
  {
   "cell_type": "markdown",
   "metadata": {},
   "source": [
    "We'll make an **\"FFI Counts\" array**, which is an array the same dimensions as the FFI, but with values of whether a pixel was telemetered in Long Cadence or not."
   ]
  },
  {
   "cell_type": "code",
   "execution_count": 10,
   "metadata": {
    "collapsed": true
   },
   "outputs": [],
   "source": [
    "hdu_counts = hdu_ffi"
   ]
  },
  {
   "cell_type": "code",
   "execution_count": 11,
   "metadata": {
    "collapsed": true
   },
   "outputs": [],
   "source": [
    "for i, el in enumerate(hdu_ffi[1:]):\n",
    "    hdu_counts[el.name].data = hdu_counts[el.name].data*0.0"
   ]
  },
  {
   "cell_type": "markdown",
   "metadata": {},
   "source": [
    "For the next part, you'll need a local hard drive full of all the K2 target pixel files.  It's a single line `wget` script to [MAST](https://archive.stsci.edu/pub/k2/target_pixel_files/c13/).  It's possible that the downloading process would corrupt a few target pixel files, and you wouldn't necessarily know.  So we will also set up a log of the failed attempts to open a target pixel file."
   ]
  },
  {
   "cell_type": "code",
   "execution_count": 12,
   "metadata": {
    "collapsed": true
   },
   "outputs": [],
   "source": [
    "local_dir = '/Volumes/burlingame/TPFs/c13/'"
   ]
  },
  {
   "cell_type": "code",
   "execution_count": 13,
   "metadata": {
    "collapsed": true
   },
   "outputs": [],
   "source": [
    "logging.basicConfig(filename='../data/C13_failed_TPFs.log',level=logging.INFO)"
   ]
  },
  {
   "cell_type": "code",
   "execution_count": 14,
   "metadata": {},
   "outputs": [
    {
     "data": {
      "text/plain": [
       "array(['MOD.OUT 8.1', 'MOD.OUT 8.4', 'MOD.OUT 23.1', 'MOD.OUT 23.2',\n",
       "       'MOD.OUT 14.1', 'MOD.OUT 9.1', 'MOD.OUT 8.3', 'MOD.OUT 22.2',\n",
       "       'MOD.OUT 24.1', 'MOD.OUT 6.1', 'MOD.OUT 19.3', 'MOD.OUT 15.1',\n",
       "       'MOD.OUT 13.3', 'MOD.OUT 24.2', 'MOD.OUT 9.4', 'MOD.OUT 22.1',\n",
       "       'MOD.OUT 22.4', 'MOD.OUT 23.3', 'MOD.OUT 14.2', 'MOD.OUT 22.3',\n",
       "       'MOD.OUT 11.3', 'MOD.OUT 6.4', 'MOD.OUT 6.3', 'MOD.OUT 12.1',\n",
       "       'MOD.OUT 12.3', 'MOD.OUT 24.4', 'MOD.OUT 9.2', 'MOD.OUT 11.4',\n",
       "       'MOD.OUT 2.3', 'MOD.OUT 10.3', 'MOD.OUT 23.4', 'MOD.OUT 2.4',\n",
       "       'MOD.OUT 19.1', 'MOD.OUT 24.3', 'MOD.OUT 16.4', 'MOD.OUT 16.3',\n",
       "       'MOD.OUT 16.1', 'MOD.OUT 16.2', 'MOD.OUT 11.1', 'MOD.OUT 11.2',\n",
       "       'MOD.OUT 17.4', 'MOD.OUT 17.3', 'MOD.OUT 6.2', 'MOD.OUT 12.4',\n",
       "       'MOD.OUT 17.1', 'MOD.OUT 17.2', 'MOD.OUT 12.2', 'MOD.OUT 18.3',\n",
       "       'MOD.OUT 2.1', 'MOD.OUT 18.2', 'MOD.OUT 13.4', 'MOD.OUT 18.4',\n",
       "       'MOD.OUT 2.2', 'MOD.OUT 18.1', 'MOD.OUT 13.1', 'MOD.OUT 13.2',\n",
       "       'MOD.OUT 19.2', 'MOD.OUT 8.2', 'MOD.OUT 19.4', 'MOD.OUT 14.3',\n",
       "       'MOD.OUT 14.4', 'MOD.OUT 20.2', 'MOD.OUT 9.3', 'MOD.OUT 20.1',\n",
       "       'MOD.OUT 15.2', 'MOD.OUT 20.3', 'MOD.OUT 20.4', 'MOD.OUT 10.2',\n",
       "       'MOD.OUT 15.3', 'MOD.OUT 10.1', 'MOD.OUT 15.4', 'MOD.OUT 10.4'], dtype=object)"
      ]
     },
     "execution_count": 14,
     "metadata": {},
     "output_type": "execute_result"
    }
   ],
   "source": [
    "mod_list = df.mod_str.unique()\n",
    "mod_list"
   ]
  },
  {
   "cell_type": "markdown",
   "metadata": {},
   "source": [
    "Now set up a big for-loop that:\n",
    "1. Reads in a TPFs \n",
    "2. Aligns its corner in the FFI frame\n",
    "3. Adds a boolean mask to the **FFI Counts** array\n",
    "4. Optionally logs any problem TPFs for spot-checking later\n",
    "5. Incrementally saves the FFI Counts array to a FITS file"
   ]
  },
  {
   "cell_type": "code",
   "execution_count": null,
   "metadata": {},
   "outputs": [
    {
     "name": "stdout",
     "output_type": "stream",
     "text": [
      "MOD.OUT 10.1  "
     ]
    },
    {
     "data": {
      "application/vnd.jupyter.widget-view+json": {
       "model_id": "c40ee2921442421a90f77f934dcead5f",
       "version_major": 2,
       "version_minor": 0
      },
      "text/plain": [
       "A Jupyter Widget"
      ]
     },
     "metadata": {},
     "output_type": "display_data"
    },
    {
     "name": "stdout",
     "output_type": "stream",
     "text": [
      "\n",
      "MOD.OUT 10.2  "
     ]
    },
    {
     "data": {
      "application/vnd.jupyter.widget-view+json": {
       "model_id": "cc7f4d57fe6c4454a561c1dcc7763ec5",
       "version_major": 2,
       "version_minor": 0
      },
      "text/plain": [
       "A Jupyter Widget"
      ]
     },
     "metadata": {},
     "output_type": "display_data"
    },
    {
     "name": "stdout",
     "output_type": "stream",
     "text": [
      "\n",
      "MOD.OUT 10.3  "
     ]
    },
    {
     "data": {
      "application/vnd.jupyter.widget-view+json": {
       "model_id": "a6c8a2e39e0447a39dd37a33e06a7f9d",
       "version_major": 2,
       "version_minor": 0
      },
      "text/plain": [
       "A Jupyter Widget"
      ]
     },
     "metadata": {},
     "output_type": "display_data"
    },
    {
     "name": "stdout",
     "output_type": "stream",
     "text": [
      "\n",
      "MOD.OUT 10.4  "
     ]
    },
    {
     "data": {
      "application/vnd.jupyter.widget-view+json": {
       "model_id": "134d17aeecc2408fbcbc2c2f4a9574ce",
       "version_major": 2,
       "version_minor": 0
      },
      "text/plain": [
       "A Jupyter Widget"
      ]
     },
     "metadata": {},
     "output_type": "display_data"
    },
    {
     "name": "stdout",
     "output_type": "stream",
     "text": [
      "\n",
      "MOD.OUT 11.1  "
     ]
    },
    {
     "data": {
      "application/vnd.jupyter.widget-view+json": {
       "model_id": "3e488bcc6c2e455ebef6eb64b2ea0efc",
       "version_major": 2,
       "version_minor": 0
      },
      "text/plain": [
       "A Jupyter Widget"
      ]
     },
     "metadata": {},
     "output_type": "display_data"
    },
    {
     "name": "stdout",
     "output_type": "stream",
     "text": [
      "\n",
      "MOD.OUT 11.2  "
     ]
    },
    {
     "data": {
      "application/vnd.jupyter.widget-view+json": {
       "model_id": "e0af0f8871b346b6a8019fe81b892925",
       "version_major": 2,
       "version_minor": 0
      },
      "text/plain": [
       "A Jupyter Widget"
      ]
     },
     "metadata": {},
     "output_type": "display_data"
    },
    {
     "name": "stdout",
     "output_type": "stream",
     "text": [
      "\n",
      "MOD.OUT 11.3  "
     ]
    },
    {
     "data": {
      "application/vnd.jupyter.widget-view+json": {
       "model_id": "69b2289a27264f428c4b5a3ef442ed19",
       "version_major": 2,
       "version_minor": 0
      },
      "text/plain": [
       "A Jupyter Widget"
      ]
     },
     "metadata": {},
     "output_type": "display_data"
    }
   ],
   "source": [
    "for mod_out, group in df.groupby('mod_str'):\n",
    "    print(mod_out, end='  ')\n",
    "    mod_out_tpfs = group.url.str[59:].values\n",
    "    with ProgressBar(len(mod_out_tpfs), ipython_widget=True) as bar:\n",
    "        for i, tpf_path in enumerate(mod_out_tpfs):\n",
    "            bar.update()\n",
    "            try:\n",
    "                hdu_tpf = fits.open(local_dir+tpf_path)\n",
    "                hdr = hdu_tpf['TARGETTABLES'].header\n",
    "                cx, cy = hdr['1CRV4P'], hdr['2CRV4P']\n",
    "                sx, sy = hdu_tpf['APERTURE'].shape\n",
    "                counts = hdu_tpf['APERTURE'].data > 0\n",
    "                hdu_counts[mod_out].data[cy:cy+sy, cx:cx+sx]=counts.T # Double check this!\n",
    "            except:\n",
    "                logging.info(tpf_path+\" had a problem: cx:{}, sx:{}, cy:{}, sy:{}\".format(cx, sx, cy, sy))\n",
    "            hdu_tpf.close()\n",
    "    hdu_counts.writeto('../data/FFI_counts/C13_FFI_mask.fits', overwrite=True)"
   ]
  },
  {
   "cell_type": "markdown",
   "metadata": {},
   "source": [
    "Ok, it took 8 minutes for 3 channels, or about 160 seconds per channel.  There are about 72 channels per pointing, so:"
   ]
  },
  {
   "cell_type": "code",
   "execution_count": null,
   "metadata": {},
   "outputs": [],
   "source": [
    "160.0*72/60.0"
   ]
  },
  {
   "cell_type": "code",
   "execution_count": null,
   "metadata": {},
   "outputs": [],
   "source": [
    "192.0/60"
   ]
  },
  {
   "cell_type": "markdown",
   "metadata": {},
   "source": [
    "Counting all the pixels will take about 3.2 hours.  That's a long time!  Meep!  \n",
    "Let's have the for loop incrementally save each channel count so we can start working with the count data."
   ]
  },
  {
   "cell_type": "code",
   "execution_count": null,
   "metadata": {},
   "outputs": [],
   "source": [
    "plt.figure(figsize=(14,14))\n",
    "plt.imshow(hdu_counts['MOD.OUT 8.1'].data, interpolation='none', );"
   ]
  },
  {
   "cell_type": "markdown",
   "metadata": {},
   "source": [
    "The end!"
   ]
  }
 ],
 "metadata": {
  "kernelspec": {
   "display_name": "Python 3",
   "language": "python",
   "name": "python3"
  },
  "language_info": {
   "codemirror_mode": {
    "name": "ipython",
    "version": 3
   },
   "file_extension": ".py",
   "mimetype": "text/x-python",
   "name": "python",
   "nbconvert_exporter": "python",
   "pygments_lexer": "ipython3",
   "version": "3.6.3"
  }
 },
 "nbformat": 4,
 "nbformat_minor": 2
}
