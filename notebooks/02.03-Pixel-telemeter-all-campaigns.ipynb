{
 "cells": [
  {
   "cell_type": "markdown",
   "metadata": {},
   "source": [
    "# How many times has each K2 pixel been telemetered?"
   ]
  },
  {
   "cell_type": "markdown",
   "metadata": {},
   "source": [
    "In this demo notebook we are going to identify which pixels were observed in long cadence (LC) during campaign 13.  Our final goal is to have a boolean mask the same dimensions as an FFI, with either 1 (was observed) or 0 (not observed).  Our approach will be simply to read in every single TPF and access the `APERTURE` keyword.  Values of `APERTURE` greater than zero are observed, while zero values were not.  We will also need to read the FITS header to determine the *x,y* coordinate of the corner of the TPF.  Finally we will programmatically fill in a count array with ones or zeros."
   ]
  },
  {
   "cell_type": "markdown",
   "metadata": {},
   "source": [
    "Make the Jupyter Notebook fill the screen."
   ]
  },
  {
   "cell_type": "code",
   "execution_count": 1,
   "metadata": {},
   "outputs": [
    {
     "data": {
      "text/html": [
       "<style>.container { width:100% !important; }</style>"
      ],
      "text/plain": [
       "<IPython.core.display.HTML object>"
      ]
     },
     "metadata": {},
     "output_type": "display_data"
    }
   ],
   "source": [
    "from IPython.core.display import display, HTML\n",
    "display(HTML(\"<style>.container { width:100% !important; }</style>\"))"
   ]
  },
  {
   "cell_type": "code",
   "execution_count": 2,
   "metadata": {
    "collapsed": true
   },
   "outputs": [],
   "source": [
    "import pandas as pd\n",
    "import numpy as np\n",
    "import matplotlib.pyplot as plt\n",
    "from astropy.io import fits\n",
    "from astropy.utils.console import ProgressBar\n",
    "import logging\n",
    "%matplotlib inline\n",
    "%config InlineBackend.figure_format = 'retina'"
   ]
  },
  {
   "cell_type": "markdown",
   "metadata": {},
   "source": [
    "Open the Campaign 13 FFI to mimic the dimensions and metadata."
   ]
  },
  {
   "cell_type": "code",
   "execution_count": 3,
   "metadata": {
    "collapsed": true
   },
   "outputs": [],
   "source": [
    "hdu_ffi = fits.open('/Volumes/Truro/ffi/ktwo2017079075530-c13_ffi-cal.fits')"
   ]
  },
  {
   "cell_type": "markdown",
   "metadata": {},
   "source": [
    "Open the [k2 Target Index](https://github.com/barentsen/k2-target-index) csv file, which is only updated to Campaign 13 at the time of writing."
   ]
  },
  {
   "cell_type": "code",
   "execution_count": 4,
   "metadata": {
    "collapsed": true
   },
   "outputs": [],
   "source": [
    "df = pd.read_csv('../../k2-target-index/k2-target-pixel-files.csv.gz')"
   ]
  },
  {
   "cell_type": "markdown",
   "metadata": {},
   "source": [
    "For this notebook, we will look at *ALL Campaigns*."
   ]
  },
  {
   "cell_type": "code",
   "execution_count": 5,
   "metadata": {},
   "outputs": [
    {
     "data": {
      "text/plain": [
       "'MOD.OUT 4.2'"
      ]
     },
     "execution_count": 5,
     "metadata": {},
     "output_type": "execute_result"
    }
   ],
   "source": [
    "hdu_ffi[10].name"
   ]
  },
  {
   "cell_type": "code",
   "execution_count": 6,
   "metadata": {},
   "outputs": [
    {
     "data": {
      "text/plain": [
       "campaign  module  output\n",
       "112       22      3          804\n",
       "                  4          350\n",
       "          23      1          121\n",
       "                  2          139\n",
       "                  3          220\n",
       "                  4          648\n",
       "          24      1          944\n",
       "                  2          205\n",
       "                  3          136\n",
       "                  4         1194\n",
       "Name: filename, dtype: int64"
      ]
     },
     "execution_count": 6,
     "metadata": {},
     "output_type": "execute_result"
    }
   ],
   "source": [
    "df.groupby(['campaign','module', 'output']).filename.count().tail(10)"
   ]
  },
  {
   "cell_type": "code",
   "execution_count": 7,
   "metadata": {
    "collapsed": true
   },
   "outputs": [],
   "source": [
    "df['mod_str'] = \"MOD.OUT \"+df.module.astype(str)+'.'+df.output.astype(str)"
   ]
  },
  {
   "cell_type": "code",
   "execution_count": 8,
   "metadata": {},
   "outputs": [
    {
     "data": {
      "text/plain": [
       "425578    MOD.OUT 17.1\n",
       "425579    MOD.OUT 16.4\n",
       "425580    MOD.OUT 13.4\n",
       "425581     MOD.OUT 8.4\n",
       "425582    MOD.OUT 19.4\n",
       "Name: mod_str, dtype: object"
      ]
     },
     "execution_count": 8,
     "metadata": {},
     "output_type": "execute_result"
    }
   ],
   "source": [
    "df['mod_str'].tail()"
   ]
  },
  {
   "cell_type": "markdown",
   "metadata": {},
   "source": [
    "We'll make an **\"FFI Counts\" array**, which is an array the same dimensions as the FFI, but with values of whether a pixel was telemetered in Long Cadence or not."
   ]
  },
  {
   "cell_type": "markdown",
   "metadata": {},
   "source": [
    "For the next part, you'll need a local hard drive full of all the K2 target pixel files.  It's a single line `wget` script to [MAST](https://archive.stsci.edu/pub/k2/target_pixel_files/c13/).  It's possible that the downloading process would corrupt a few target pixel files, and you wouldn't necessarily know.  So we will also set up a log of the failed attempts to open a target pixel file."
   ]
  },
  {
   "cell_type": "code",
   "execution_count": 9,
   "metadata": {},
   "outputs": [
    {
     "name": "stdout",
     "output_type": "stream",
     "text": [
      "\u001b[1m\u001b[31mc0\u001b[m\u001b[m   \u001b[1m\u001b[31mc101\u001b[m\u001b[m \u001b[1m\u001b[31mc111\u001b[m\u001b[m \u001b[1m\u001b[31mc12\u001b[m\u001b[m  \u001b[1m\u001b[31mc14\u001b[m\u001b[m  \u001b[1m\u001b[31mc3\u001b[m\u001b[m   \u001b[1m\u001b[31mc5\u001b[m\u001b[m   \u001b[1m\u001b[31mc7\u001b[m\u001b[m   \u001b[1m\u001b[31mc91\u001b[m\u001b[m\r\n",
      "\u001b[1m\u001b[31mc1\u001b[m\u001b[m   \u001b[1m\u001b[31mc102\u001b[m\u001b[m \u001b[1m\u001b[31mc112\u001b[m\u001b[m \u001b[1m\u001b[31mc13\u001b[m\u001b[m  \u001b[1m\u001b[31mc2\u001b[m\u001b[m   \u001b[1m\u001b[31mc4\u001b[m\u001b[m   \u001b[1m\u001b[31mc6\u001b[m\u001b[m   \u001b[1m\u001b[31mc8\u001b[m\u001b[m   \u001b[1m\u001b[31mc92\u001b[m\u001b[m\r\n"
     ]
    }
   ],
   "source": [
    "! ls /Volumes/burlingame/TPFs/"
   ]
  },
  {
   "cell_type": "code",
   "execution_count": 10,
   "metadata": {},
   "outputs": [
    {
     "data": {
      "text/plain": [
       "array([  0,   1,   2,   3,   4,   5,   6,   7,   8,  91,  92, 101, 102,\n",
       "       111, 112,  12,  13])"
      ]
     },
     "execution_count": 10,
     "metadata": {},
     "output_type": "execute_result"
    }
   ],
   "source": [
    "df.campaign.unique()"
   ]
  },
  {
   "cell_type": "code",
   "execution_count": 11,
   "metadata": {
    "collapsed": true
   },
   "outputs": [],
   "source": [
    "logging.basicConfig(filename='../data/all_failed_TPFs.log',level=logging.INFO)"
   ]
  },
  {
   "cell_type": "code",
   "execution_count": 12,
   "metadata": {},
   "outputs": [
    {
     "data": {
      "text/plain": [
       "array(['MOD.OUT 24.1', 'MOD.OUT 19.1', 'MOD.OUT 17.3', 'MOD.OUT 2.3',\n",
       "       'MOD.OUT 4.3', 'MOD.OUT 4.4', 'MOD.OUT 12.4', 'MOD.OUT 18.2',\n",
       "       'MOD.OUT 13.2', 'MOD.OUT 14.1', 'MOD.OUT 6.1', 'MOD.OUT 6.2',\n",
       "       'MOD.OUT 10.2', 'MOD.OUT 20.3', 'MOD.OUT 20.1', 'MOD.OUT 20.4',\n",
       "       'MOD.OUT 16.2', 'MOD.OUT 18.1', 'MOD.OUT 16.1', 'MOD.OUT 12.1',\n",
       "       'MOD.OUT 23.4', 'MOD.OUT 8.1', 'MOD.OUT 11.1', 'MOD.OUT 18.3',\n",
       "       'MOD.OUT 10.3', 'MOD.OUT 10.4', 'MOD.OUT 10.1', 'MOD.OUT 24.4',\n",
       "       'MOD.OUT 20.2', 'MOD.OUT 9.2', 'MOD.OUT 22.2', 'MOD.OUT 12.2',\n",
       "       'MOD.OUT 12.3', 'MOD.OUT 13.1', 'MOD.OUT 8.4', 'MOD.OUT 15.3',\n",
       "       'MOD.OUT 24.3', 'MOD.OUT 13.4', 'MOD.OUT 2.1', 'MOD.OUT 17.1',\n",
       "       'MOD.OUT 18.4', 'MOD.OUT 16.3', 'MOD.OUT 16.4', 'MOD.OUT 23.3',\n",
       "       'MOD.OUT 15.2', 'MOD.OUT 2.4', 'MOD.OUT 9.3', 'MOD.OUT 22.4',\n",
       "       'MOD.OUT 19.3', 'MOD.OUT 23.1', 'MOD.OUT 14.4', 'MOD.OUT 15.4',\n",
       "       'MOD.OUT 23.2', 'MOD.OUT 14.3', 'MOD.OUT 4.2', 'MOD.OUT 17.4',\n",
       "       'MOD.OUT 2.2', 'MOD.OUT 24.2', 'MOD.OUT 17.2', 'MOD.OUT 13.3',\n",
       "       'MOD.OUT 9.4', 'MOD.OUT 14.2', 'MOD.OUT 11.3', 'MOD.OUT 19.4',\n",
       "       'MOD.OUT 11.2', 'MOD.OUT 15.1', 'MOD.OUT 8.3', 'MOD.OUT 11.4',\n",
       "       'MOD.OUT 19.2', 'MOD.OUT 22.1', 'MOD.OUT 9.1', 'MOD.OUT 8.2',\n",
       "       'MOD.OUT 4.1', 'MOD.OUT 6.3', 'MOD.OUT 6.4', 'MOD.OUT 22.3'], dtype=object)"
      ]
     },
     "execution_count": 12,
     "metadata": {},
     "output_type": "execute_result"
    }
   ],
   "source": [
    "mod_list = df.mod_str.unique()\n",
    "mod_list"
   ]
  },
  {
   "cell_type": "markdown",
   "metadata": {},
   "source": [
    "Now set up a big for-loop that:\n",
    "1. Reads in a TPFs \n",
    "2. Aligns its corner in the FFI frame\n",
    "3. Adds a boolean mask to the **FFI Counts** array\n",
    "4. Optionally logs any problem TPFs for spot-checking later\n",
    "5. Incrementally saves the FFI Counts array to a FITS file"
   ]
  },
  {
   "cell_type": "code",
   "execution_count": 13,
   "metadata": {},
   "outputs": [
    {
     "name": "stdout",
     "output_type": "stream",
     "text": [
      "C0_FFI_mask.fits   C12_FFI_mask.fits  C4_FFI_mask.fits   C91_FFI_mask.fits\r\n",
      "C101_FFI_mask.fits C13_FFI_mask.fits  C5_FFI_mask.fits   C92_FFI_mask.fits\r\n",
      "C102_FFI_mask.fits C1_FFI_mask.fits   C6_FFI_mask.fits\r\n",
      "C111_FFI_mask.fits C2_FFI_mask.fits   C7_FFI_mask.fits\r\n",
      "C112_FFI_mask.fits C3_FFI_mask.fits   C8_FFI_mask.fits\r\n"
     ]
    }
   ],
   "source": [
    "! ls ../data/FFI_counts/"
   ]
  },
  {
   "cell_type": "code",
   "execution_count": 14,
   "metadata": {
    "scrolled": false
   },
   "outputs": [
    {
     "name": "stdout",
     "output_type": "stream",
     "text": [
      "----------C0-----------\n"
     ]
    },
    {
     "data": {
      "application/vnd.jupyter.widget-view+json": {
       "model_id": "61aa95f4d22a489d8b546ff67b6e5df7",
       "version_major": 2,
       "version_minor": 0
      },
      "text/plain": [
       "A Jupyter Widget"
      ]
     },
     "metadata": {},
     "output_type": "display_data"
    },
    {
     "name": "stdout",
     "output_type": "stream",
     "text": [
      "\n",
      "----------C1-----------\n"
     ]
    },
    {
     "data": {
      "application/vnd.jupyter.widget-view+json": {
       "model_id": "4de4c396d1814ddfb3ef6bccbacb432d",
       "version_major": 2,
       "version_minor": 0
      },
      "text/plain": [
       "A Jupyter Widget"
      ]
     },
     "metadata": {},
     "output_type": "display_data"
    },
    {
     "name": "stdout",
     "output_type": "stream",
     "text": [
      "\n",
      "----------C2-----------\n"
     ]
    },
    {
     "data": {
      "application/vnd.jupyter.widget-view+json": {
       "model_id": "094b19c9da08438c94f3851f637fc865",
       "version_major": 2,
       "version_minor": 0
      },
      "text/plain": [
       "A Jupyter Widget"
      ]
     },
     "metadata": {},
     "output_type": "display_data"
    },
    {
     "name": "stdout",
     "output_type": "stream",
     "text": [
      "\n",
      "----------C3-----------\n"
     ]
    },
    {
     "data": {
      "application/vnd.jupyter.widget-view+json": {
       "model_id": "5e5c0233d89e48ba8ce6cd99746fd3a2",
       "version_major": 2,
       "version_minor": 0
      },
      "text/plain": [
       "A Jupyter Widget"
      ]
     },
     "metadata": {},
     "output_type": "display_data"
    },
    {
     "name": "stdout",
     "output_type": "stream",
     "text": [
      "\n",
      "----------C4-----------\n"
     ]
    },
    {
     "data": {
      "application/vnd.jupyter.widget-view+json": {
       "model_id": "547f1fa277604cc3bbd325c114fa4e24",
       "version_major": 2,
       "version_minor": 0
      },
      "text/plain": [
       "A Jupyter Widget"
      ]
     },
     "metadata": {},
     "output_type": "display_data"
    },
    {
     "name": "stdout",
     "output_type": "stream",
     "text": [
      "\n",
      "----------C5-----------\n"
     ]
    },
    {
     "data": {
      "application/vnd.jupyter.widget-view+json": {
       "model_id": "98d75dc2508e469785c539d824fb8138",
       "version_major": 2,
       "version_minor": 0
      },
      "text/plain": [
       "A Jupyter Widget"
      ]
     },
     "metadata": {},
     "output_type": "display_data"
    },
    {
     "name": "stdout",
     "output_type": "stream",
     "text": [
      "\n",
      "----------C6-----------\n"
     ]
    },
    {
     "data": {
      "application/vnd.jupyter.widget-view+json": {
       "model_id": "b8fe8526ddb34b73bb3068f40cc8176d",
       "version_major": 2,
       "version_minor": 0
      },
      "text/plain": [
       "A Jupyter Widget"
      ]
     },
     "metadata": {},
     "output_type": "display_data"
    },
    {
     "name": "stdout",
     "output_type": "stream",
     "text": [
      "\n",
      "----------C7-----------\n"
     ]
    },
    {
     "data": {
      "application/vnd.jupyter.widget-view+json": {
       "model_id": "7610f90f248f4b5a96dcf1eaeb654e40",
       "version_major": 2,
       "version_minor": 0
      },
      "text/plain": [
       "A Jupyter Widget"
      ]
     },
     "metadata": {},
     "output_type": "display_data"
    },
    {
     "name": "stdout",
     "output_type": "stream",
     "text": [
      "\n",
      "----------C8-----------\n"
     ]
    },
    {
     "data": {
      "application/vnd.jupyter.widget-view+json": {
       "model_id": "d80bb951c2a5414caf14aba11c57db81",
       "version_major": 2,
       "version_minor": 0
      },
      "text/plain": [
       "A Jupyter Widget"
      ]
     },
     "metadata": {},
     "output_type": "display_data"
    },
    {
     "name": "stdout",
     "output_type": "stream",
     "text": [
      "\n",
      "----------C12-----------\n"
     ]
    },
    {
     "data": {
      "application/vnd.jupyter.widget-view+json": {
       "model_id": "b03864e1e2ed4d81a9e8a4f26411f244",
       "version_major": 2,
       "version_minor": 0
      },
      "text/plain": [
       "A Jupyter Widget"
      ]
     },
     "metadata": {},
     "output_type": "display_data"
    },
    {
     "name": "stdout",
     "output_type": "stream",
     "text": [
      "\n",
      "----------C13-----------\n"
     ]
    },
    {
     "data": {
      "application/vnd.jupyter.widget-view+json": {
       "model_id": "db72a5bf41df4322b6840378d32b4842",
       "version_major": 2,
       "version_minor": 0
      },
      "text/plain": [
       "A Jupyter Widget"
      ]
     },
     "metadata": {},
     "output_type": "display_data"
    },
    {
     "name": "stdout",
     "output_type": "stream",
     "text": [
      "\n",
      "----------C91-----------\n"
     ]
    },
    {
     "data": {
      "application/vnd.jupyter.widget-view+json": {
       "model_id": "f6bbe8929b10417489f724ef51b4ecdc",
       "version_major": 2,
       "version_minor": 0
      },
      "text/plain": [
       "A Jupyter Widget"
      ]
     },
     "metadata": {},
     "output_type": "display_data"
    },
    {
     "name": "stdout",
     "output_type": "stream",
     "text": [
      "\n",
      "----------C92-----------\n"
     ]
    },
    {
     "data": {
      "application/vnd.jupyter.widget-view+json": {
       "model_id": "1b48dcfcd14c4a9ca425d0b0b7c489f1",
       "version_major": 2,
       "version_minor": 0
      },
      "text/plain": [
       "A Jupyter Widget"
      ]
     },
     "metadata": {},
     "output_type": "display_data"
    },
    {
     "name": "stdout",
     "output_type": "stream",
     "text": [
      "\n",
      "----------C101-----------\n"
     ]
    },
    {
     "data": {
      "application/vnd.jupyter.widget-view+json": {
       "model_id": "4effe03836bf401eb09d752abd4c0cf7",
       "version_major": 2,
       "version_minor": 0
      },
      "text/plain": [
       "A Jupyter Widget"
      ]
     },
     "metadata": {},
     "output_type": "display_data"
    },
    {
     "name": "stdout",
     "output_type": "stream",
     "text": [
      "\n",
      "----------C102-----------\n"
     ]
    },
    {
     "data": {
      "application/vnd.jupyter.widget-view+json": {
       "model_id": "354d472e73934c5fa2117b08b7b04c19",
       "version_major": 2,
       "version_minor": 0
      },
      "text/plain": [
       "A Jupyter Widget"
      ]
     },
     "metadata": {},
     "output_type": "display_data"
    },
    {
     "name": "stdout",
     "output_type": "stream",
     "text": [
      "\n",
      "----------C111-----------\n"
     ]
    },
    {
     "data": {
      "application/vnd.jupyter.widget-view+json": {
       "model_id": "d894c09f42c949958a9686bc5e26edb3",
       "version_major": 2,
       "version_minor": 0
      },
      "text/plain": [
       "A Jupyter Widget"
      ]
     },
     "metadata": {},
     "output_type": "display_data"
    },
    {
     "name": "stdout",
     "output_type": "stream",
     "text": [
      "\n",
      "----------C112-----------\n"
     ]
    },
    {
     "data": {
      "application/vnd.jupyter.widget-view+json": {
       "model_id": "789602fa05fb40d5942db7906016a774",
       "version_major": 2,
       "version_minor": 0
      },
      "text/plain": [
       "A Jupyter Widget"
      ]
     },
     "metadata": {},
     "output_type": "display_data"
    },
    {
     "name": "stdout",
     "output_type": "stream",
     "text": [
      "\n"
     ]
    }
   ],
   "source": [
    "for campaign, c_group in df.groupby('campaign'):\n",
    "    print('----------C{:}-----------'.format(campaign))\n",
    "    local_dir = '/Volumes/burlingame/TPFs/c'+str(campaign)+'/'\n",
    "    hdu_counts = hdu_ffi\n",
    "    for i, el in enumerate(hdu_ffi[1:]):\n",
    "        hdu_counts[el.name].data = hdu_counts[el.name].data*0.0\n",
    "\n",
    "    with ProgressBar(len(c_group.mod_str.unique()), ipython_widget=True) as bar:\n",
    "        for mod_out, group in c_group.groupby('mod_str'):\n",
    "            #print(mod_out, end='  ')\n",
    "            bar.update()\n",
    "            mod_out_tpfs = group.url.str[59:].values\n",
    "            for i, tpf_path in enumerate(mod_out_tpfs):\n",
    "                try:\n",
    "                    pass\n",
    "                    #hdu_tpf = fits.open(local_dir+tpf_path)\n",
    "                    #hdr = hdu_tpf['TARGETTABLES'].header\n",
    "                    #cx, cy = hdr['1CRV4P'], hdr['2CRV4P']\n",
    "                    #sx, sy = hdu_tpf['APERTURE'].shape\n",
    "                    #counts = hdu_tpf['APERTURE'].data > 0\n",
    "                    #hdu_counts[mod_out].data[cy:cy+sy, cx:cx+sx]=counts.T # Double check this!\n",
    "                except:\n",
    "                    print(1)\n",
    "                    #logging.info(tpf_path+\" had a problem: cx:{}, sx:{}, cy:{}, sy:{}\".format(cx, sx, cy, sy))\n",
    "                #hdu_tpf.close()\n",
    "            outfile = '../data/FFI_counts/C{}_FFI_mask.fits'.format(str(campaign))\n",
    "        hdu_counts.writeto(outfile, overwrite=True)"
   ]
  },
  {
   "cell_type": "markdown",
   "metadata": {},
   "source": [
    "Ok, it took 8 minutes for 3 channels, or about 160 seconds per channel.  There are about 72 channels per pointing, so:"
   ]
  },
  {
   "cell_type": "code",
   "execution_count": null,
   "metadata": {
    "collapsed": true
   },
   "outputs": [],
   "source": [
    "160.0*72/60.0"
   ]
  },
  {
   "cell_type": "code",
   "execution_count": null,
   "metadata": {
    "collapsed": true
   },
   "outputs": [],
   "source": [
    "192.0/60"
   ]
  },
  {
   "cell_type": "markdown",
   "metadata": {},
   "source": [
    "Counting all the pixels will take about 3.2 hours.  That's a long time!  Meep!  \n",
    "Let's have the for loop incrementally save each channel count so we can start working with the count data."
   ]
  },
  {
   "cell_type": "code",
   "execution_count": 15,
   "metadata": {},
   "outputs": [
    {
     "data": {
      "image/png": "[encoded data removed]",
      "text/plain": [
       "<matplotlib.figure.Figure at 0xa21e76cf8>"
      ]
     },
     "metadata": {
      "image/png": {
       "height": 772,
       "width": 830
      }
     },
     "output_type": "display_data"
    }
   ],
   "source": [
    "plt.figure(figsize=(14,14))\n",
    "plt.imshow(hdu_counts['MOD.OUT 8.1'].data, interpolation='none', );"
   ]
  },
  {
   "cell_type": "markdown",
   "metadata": {},
   "source": [
    "The end!"
   ]
  }
 ],
 "metadata": {
  "kernelspec": {
   "display_name": "Python 3",
   "language": "python",
   "name": "python3"
  },
  "language_info": {
   "codemirror_mode": {
    "name": "ipython",
    "version": 3
   },
   "file_extension": ".py",
   "mimetype": "text/x-python",
   "name": "python",
   "nbconvert_exporter": "python",
   "pygments_lexer": "ipython3",
   "version": "3.6.3"
  }
 },
 "nbformat": 4,
 "nbformat_minor": 2
}
